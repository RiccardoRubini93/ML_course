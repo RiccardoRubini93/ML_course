{
 "cells": [
  {
   "cell_type": "code",
   "execution_count": 1,
   "id": "001ff6f9",
   "metadata": {},
   "outputs": [
    {
     "name": "stderr",
     "output_type": "stream",
     "text": [
      "/usr/lib/python3/dist-packages/matplotlib/cbook/__init__.py:1402: FutureWarning: Support for multi-dimensional indexing (e.g. `obj[:, None]`) is deprecated and will be removed in a future version.  Convert to a numpy array before indexing instead.\n",
      "  ndim = x[:, None].ndim\n",
      "/usr/lib/python3/dist-packages/matplotlib/axes/_base.py:276: FutureWarning: Support for multi-dimensional indexing (e.g. `obj[:, None]`) is deprecated and will be removed in a future version.  Convert to a numpy array before indexing instead.\n",
      "  x = x[:, np.newaxis]\n",
      "/usr/lib/python3/dist-packages/matplotlib/axes/_base.py:278: FutureWarning: Support for multi-dimensional indexing (e.g. `obj[:, None]`) is deprecated and will be removed in a future version.  Convert to a numpy array before indexing instead.\n",
      "  y = y[:, np.newaxis]\n"
     ]
    },
    {
     "data": {
      "text/plain": [
       "[<matplotlib.lines.Line2D at 0x7f6f61aee520>]"
      ]
     },
     "execution_count": 1,
     "metadata": {},
     "output_type": "execute_result"
    },
    {
     "data": {
      "image/png": "[encoded data removed]",
      "text/plain": [
       "<Figure size 864x720 with 1 Axes>"
      ]
     },
     "metadata": {
      "needs_background": "light"
     },
     "output_type": "display_data"
    }
   ],
   "source": [
    "import numpy as np\n",
    "import pandas as pd\n",
    "import random\n",
    "import matplotlib.pyplot as pl\n",
    "%matplotlib inline\n",
    "from matplotlib.pylab import rcParams\n",
    "rcParams['figure.figsize'] = 12, 10\n",
    "\n",
    "#Define input array with angles from 60deg to 300deg converted to radians\n",
    "x = np.array([i*np.pi/180 for i in range(60,300,4)])\n",
    "np.random.seed(10)  #Setting seed for reproducibility\n",
    "y = np.sin(x) + np.random.normal(0,0.15,len(x))\n",
    "data = pd.DataFrame(np.column_stack([x,y]),columns=['x','y'])\n",
    "pl.plot(data['x'],data['y'],'.')"
   ]
  },
  {
   "cell_type": "code",
   "execution_count": 2,
   "id": "bd1ebf8c",
   "metadata": {},
   "outputs": [
    {
     "name": "stdout",
     "output_type": "stream",
     "text": [
      "          x         y       x_2       x_3       x_4       x_5       x_6  \\\n",
      "0  1.047198  1.065763  1.096623  1.148381  1.202581  1.259340  1.318778   \n",
      "1  1.117011  1.006086  1.247713  1.393709  1.556788  1.738948  1.942424   \n",
      "2  1.186824  0.695374  1.408551  1.671702  1.984016  2.354677  2.794587   \n",
      "3  1.256637  0.949799  1.579137  1.984402  2.493673  3.133642  3.937850   \n",
      "4  1.326450  1.063496  1.759470  2.333850  3.095735  4.106339  5.446854   \n",
      "\n",
      "        x_7       x_8        x_9       x_10       x_11       x_12       x_13  \\\n",
      "0  1.381021  1.446202   1.514459   1.585938   1.660790   1.739176   1.821260   \n",
      "1  2.169709  2.423588   2.707173   3.023942   3.377775   3.773011   4.214494   \n",
      "2  3.316683  3.936319   4.671717   5.544505   6.580351   7.809718   9.268760   \n",
      "3  4.948448  6.218404   7.814277   9.819710  12.339811  15.506664  19.486248   \n",
      "4  7.224981  9.583578  12.712139  16.862020  22.366630  29.668222  39.353420   \n",
      "\n",
      "        x_14       x_15  \n",
      "0   1.907219   1.997235  \n",
      "1   4.707635   5.258479  \n",
      "2  11.000386  13.055521  \n",
      "3  24.487142  30.771450  \n",
      "4  52.200353  69.241170  \n"
     ]
    }
   ],
   "source": [
    "for i in range(2,16):  #power of 1 is already there\n",
    "    colname = 'x_%d'%i      #new var will be x_power\n",
    "    data[colname] = data['x']**i\n",
    "print(data.head())"
   ]
  },
  {
   "cell_type": "code",
   "execution_count": 4,
   "id": "550a1975",
   "metadata": {},
   "outputs": [],
   "source": [
    "from sklearn.linear_model import Lasso\n",
    "from sklearn.model_selection import train_test_split\n",
    "\n",
    "def LASSO_regression(data, predictors, alpha, models_to_plot={}):\n",
    "    \n",
    "    \n",
    "    return "
   ]
  },
  {
   "cell_type": "code",
   "execution_count": 6,
   "id": "41daad1e",
   "metadata": {},
   "outputs": [
    {
     "name": "stderr",
     "output_type": "stream",
     "text": [
      "/home/riccardo/.local/lib/python3.8/site-packages/sklearn/linear_model/_coordinate_descent.py:530: ConvergenceWarning: Objective did not converge. You might want to increase the number of iterations. Duality gap: 0.4312354598460379, tolerance: 0.002784608479915756\n",
      "  model = cd_fast.enet_coordinate_descent(\n",
      "/usr/lib/python3/dist-packages/matplotlib/cbook/__init__.py:1402: FutureWarning: Support for multi-dimensional indexing (e.g. `obj[:, None]`) is deprecated and will be removed in a future version.  Convert to a numpy array before indexing instead.\n",
      "  ndim = x[:, None].ndim\n",
      "/usr/lib/python3/dist-packages/matplotlib/axes/_base.py:276: FutureWarning: Support for multi-dimensional indexing (e.g. `obj[:, None]`) is deprecated and will be removed in a future version.  Convert to a numpy array before indexing instead.\n",
      "  x = x[:, np.newaxis]\n",
      "/usr/lib/python3/dist-packages/matplotlib/axes/_base.py:278: FutureWarning: Support for multi-dimensional indexing (e.g. `obj[:, None]`) is deprecated and will be removed in a future version.  Convert to a numpy array before indexing instead.\n",
      "  y = y[:, np.newaxis]\n",
      "/home/riccardo/.local/lib/python3.8/site-packages/sklearn/linear_model/_coordinate_descent.py:530: ConvergenceWarning: Objective did not converge. You might want to increase the number of iterations. Duality gap: 0.43123148123191946, tolerance: 0.002784608479915756\n",
      "  model = cd_fast.enet_coordinate_descent(\n",
      "/usr/lib/python3/dist-packages/matplotlib/cbook/__init__.py:1402: FutureWarning: Support for multi-dimensional indexing (e.g. `obj[:, None]`) is deprecated and will be removed in a future version.  Convert to a numpy array before indexing instead.\n",
      "  ndim = x[:, None].ndim\n",
      "/usr/lib/python3/dist-packages/matplotlib/axes/_base.py:276: FutureWarning: Support for multi-dimensional indexing (e.g. `obj[:, None]`) is deprecated and will be removed in a future version.  Convert to a numpy array before indexing instead.\n",
      "  x = x[:, np.newaxis]\n",
      "/usr/lib/python3/dist-packages/matplotlib/axes/_base.py:278: FutureWarning: Support for multi-dimensional indexing (e.g. `obj[:, None]`) is deprecated and will be removed in a future version.  Convert to a numpy array before indexing instead.\n",
      "  y = y[:, np.newaxis]\n",
      "/home/riccardo/.local/lib/python3.8/site-packages/sklearn/linear_model/_coordinate_descent.py:530: ConvergenceWarning: Objective did not converge. You might want to increase the number of iterations. Duality gap: 0.4308377840071945, tolerance: 0.002784608479915756\n",
      "  model = cd_fast.enet_coordinate_descent(\n",
      "/home/riccardo/.local/lib/python3.8/site-packages/sklearn/linear_model/_coordinate_descent.py:530: ConvergenceWarning: Objective did not converge. You might want to increase the number of iterations. Duality gap: 0.04989388846468645, tolerance: 0.002784608479915756\n",
      "  model = cd_fast.enet_coordinate_descent(\n",
      "/usr/lib/python3/dist-packages/matplotlib/cbook/__init__.py:1402: FutureWarning: Support for multi-dimensional indexing (e.g. `obj[:, None]`) is deprecated and will be removed in a future version.  Convert to a numpy array before indexing instead.\n",
      "  ndim = x[:, None].ndim\n",
      "/usr/lib/python3/dist-packages/matplotlib/axes/_base.py:276: FutureWarning: Support for multi-dimensional indexing (e.g. `obj[:, None]`) is deprecated and will be removed in a future version.  Convert to a numpy array before indexing instead.\n",
      "  x = x[:, np.newaxis]\n",
      "/usr/lib/python3/dist-packages/matplotlib/axes/_base.py:278: FutureWarning: Support for multi-dimensional indexing (e.g. `obj[:, None]`) is deprecated and will be removed in a future version.  Convert to a numpy array before indexing instead.\n",
      "  y = y[:, np.newaxis]\n",
      "/usr/lib/python3/dist-packages/matplotlib/cbook/__init__.py:1402: FutureWarning: Support for multi-dimensional indexing (e.g. `obj[:, None]`) is deprecated and will be removed in a future version.  Convert to a numpy array before indexing instead.\n",
      "  ndim = x[:, None].ndim\n",
      "/usr/lib/python3/dist-packages/matplotlib/axes/_base.py:276: FutureWarning: Support for multi-dimensional indexing (e.g. `obj[:, None]`) is deprecated and will be removed in a future version.  Convert to a numpy array before indexing instead.\n",
      "  x = x[:, np.newaxis]\n",
      "/usr/lib/python3/dist-packages/matplotlib/axes/_base.py:278: FutureWarning: Support for multi-dimensional indexing (e.g. `obj[:, None]`) is deprecated and will be removed in a future version.  Convert to a numpy array before indexing instead.\n",
      "  y = y[:, np.newaxis]\n",
      "/usr/lib/python3/dist-packages/matplotlib/cbook/__init__.py:1402: FutureWarning: Support for multi-dimensional indexing (e.g. `obj[:, None]`) is deprecated and will be removed in a future version.  Convert to a numpy array before indexing instead.\n",
      "  ndim = x[:, None].ndim\n",
      "/usr/lib/python3/dist-packages/matplotlib/axes/_base.py:276: FutureWarning: Support for multi-dimensional indexing (e.g. `obj[:, None]`) is deprecated and will be removed in a future version.  Convert to a numpy array before indexing instead.\n",
      "  x = x[:, np.newaxis]\n",
      "/usr/lib/python3/dist-packages/matplotlib/axes/_base.py:278: FutureWarning: Support for multi-dimensional indexing (e.g. `obj[:, None]`) is deprecated and will be removed in a future version.  Convert to a numpy array before indexing instead.\n",
      "  y = y[:, np.newaxis]\n",
      "/usr/lib/python3/dist-packages/matplotlib/cbook/__init__.py:1402: FutureWarning: Support for multi-dimensional indexing (e.g. `obj[:, None]`) is deprecated and will be removed in a future version.  Convert to a numpy array before indexing instead.\n",
      "  ndim = x[:, None].ndim\n",
      "/usr/lib/python3/dist-packages/matplotlib/axes/_base.py:276: FutureWarning: Support for multi-dimensional indexing (e.g. `obj[:, None]`) is deprecated and will be removed in a future version.  Convert to a numpy array before indexing instead.\n",
      "  x = x[:, np.newaxis]\n",
      "/usr/lib/python3/dist-packages/matplotlib/axes/_base.py:278: FutureWarning: Support for multi-dimensional indexing (e.g. `obj[:, None]`) is deprecated and will be removed in a future version.  Convert to a numpy array before indexing instead.\n",
      "  y = y[:, np.newaxis]\n"
     ]
    },
    {
     "data": {
      "image/png": "[encoded data removed]",
      "text/plain": [
       "<Figure size 864x720 with 6 Axes>"
      ]
     },
     "metadata": {
      "needs_background": "light"
     },
     "output_type": "display_data"
    }
   ],
   "source": [
    "#Initialize predictors to be set of 15 powers of x\n",
    "predictors=['x']\n",
    "predictors.extend(['x_%d'%i for i in range(2,16)])\n",
    "\n",
    "#Set the different values of alpha to be tested\n",
    "alpha_lasso = [1e-15, 1e-10, 1e-8, 1e-4, 1e-3,1e-2, 1, 5, 10, 20]\n",
    "\n",
    "#Initialize the dataframe for storing coefficients.\n",
    "col = ['rss_train','rss_test','intercept'] + ['coef_x_%d'%i for i in range(1,16)]\n",
    "ind = ['alpha_%.2g'%alpha_ridge[i] for i in range(0,10)]\n",
    "coef_matrix_lasso = pd.DataFrame(index=ind, columns=col)\n",
    "\n",
    "models_to_plot = {1e-15:231, 1e-10:232, 1e-4:233, 1e-3:234, 1e-2:235, 5:236}\n",
    "for i in range(10):\n",
    "    coef_matrix_lasso.iloc[i,] = LASSO_regression(data, predictors, alpha_lasso[i], models_to_plot)"
   ]
  },
  {
   "cell_type": "code",
   "execution_count": 8,
   "id": "1f02662b",
   "metadata": {},
   "outputs": [
    {
     "data": {
      "text/html": [
       "<div>\n",
       "<style scoped>\n",
       "    .dataframe tbody tr th:only-of-type {\n",
       "        vertical-align: middle;\n",
       "    }\n",
       "\n",
       "    .dataframe tbody tr th {\n",
       "        vertical-align: top;\n",
       "    }\n",
       "\n",
       "    .dataframe thead th {\n",
       "        text-align: right;\n",
       "    }\n",
       "</style>\n",
       "<table border=\"1\" class=\"dataframe\">\n",
       "  <thead>\n",
       "    <tr style=\"text-align: right;\">\n",
       "      <th></th>\n",
       "      <th>rss_train</th>\n",
       "      <th>rss_test</th>\n",
       "      <th>intercept</th>\n",
       "      <th>coef_x_1</th>\n",
       "      <th>coef_x_2</th>\n",
       "      <th>coef_x_3</th>\n",
       "      <th>coef_x_4</th>\n",
       "      <th>coef_x_5</th>\n",
       "      <th>coef_x_6</th>\n",
       "      <th>coef_x_7</th>\n",
       "      <th>coef_x_8</th>\n",
       "      <th>coef_x_9</th>\n",
       "      <th>coef_x_10</th>\n",
       "      <th>coef_x_11</th>\n",
       "      <th>coef_x_12</th>\n",
       "      <th>coef_x_13</th>\n",
       "      <th>coef_x_14</th>\n",
       "      <th>coef_x_15</th>\n",
       "    </tr>\n",
       "  </thead>\n",
       "  <tbody>\n",
       "    <tr>\n",
       "      <th>alpha_1e-15</th>\n",
       "      <td>0.017968</td>\n",
       "      <td>0.009589</td>\n",
       "      <td>0.043522</td>\n",
       "      <td>1.16793</td>\n",
       "      <td>-0.319834</td>\n",
       "      <td>-0.023964</td>\n",
       "      <td>-0.000442</td>\n",
       "      <td>0.000317</td>\n",
       "      <td>0.00009</td>\n",
       "      <td>0.000018</td>\n",
       "      <td>0.000003</td>\n",
       "      <td>0.0</td>\n",
       "      <td>0.0</td>\n",
       "      <td>0.0</td>\n",
       "      <td>-0.0</td>\n",
       "      <td>-0.0</td>\n",
       "      <td>-0.0</td>\n",
       "      <td>-0.0</td>\n",
       "    </tr>\n",
       "    <tr>\n",
       "      <th>alpha_1e-10</th>\n",
       "      <td>0.017968</td>\n",
       "      <td>0.009589</td>\n",
       "      <td>0.043522</td>\n",
       "      <td>1.16793</td>\n",
       "      <td>-0.319834</td>\n",
       "      <td>-0.023964</td>\n",
       "      <td>-0.000442</td>\n",
       "      <td>0.000317</td>\n",
       "      <td>0.00009</td>\n",
       "      <td>0.000018</td>\n",
       "      <td>0.000003</td>\n",
       "      <td>0.0</td>\n",
       "      <td>0.0</td>\n",
       "      <td>0.0</td>\n",
       "      <td>-0.0</td>\n",
       "      <td>-0.0</td>\n",
       "      <td>-0.0</td>\n",
       "      <td>-0.0</td>\n",
       "    </tr>\n",
       "    <tr>\n",
       "      <th>alpha_1e-08</th>\n",
       "      <td>0.017968</td>\n",
       "      <td>0.009588</td>\n",
       "      <td>0.043571</td>\n",
       "      <td>1.167878</td>\n",
       "      <td>-0.319821</td>\n",
       "      <td>-0.023964</td>\n",
       "      <td>-0.000442</td>\n",
       "      <td>0.000317</td>\n",
       "      <td>0.00009</td>\n",
       "      <td>0.000018</td>\n",
       "      <td>0.000003</td>\n",
       "      <td>0.0</td>\n",
       "      <td>0.0</td>\n",
       "      <td>0.0</td>\n",
       "      <td>-0.0</td>\n",
       "      <td>-0.0</td>\n",
       "      <td>-0.0</td>\n",
       "      <td>-0.0</td>\n",
       "    </tr>\n",
       "    <tr>\n",
       "      <th>alpha_0.0001</th>\n",
       "      <td>0.018891</td>\n",
       "      <td>0.009176</td>\n",
       "      <td>0.492301</td>\n",
       "      <td>0.710628</td>\n",
       "      <td>-0.212753</td>\n",
       "      <td>-0.022732</td>\n",
       "      <td>-0.0</td>\n",
       "      <td>-0.0</td>\n",
       "      <td>0.000028</td>\n",
       "      <td>0.000023</td>\n",
       "      <td>0.000003</td>\n",
       "      <td>0.0</td>\n",
       "      <td>0.0</td>\n",
       "      <td>0.0</td>\n",
       "      <td>0.0</td>\n",
       "      <td>-0.0</td>\n",
       "      <td>-0.0</td>\n",
       "      <td>-0.0</td>\n",
       "    </tr>\n",
       "    <tr>\n",
       "      <th>alpha_0.001</th>\n",
       "      <td>0.030343</td>\n",
       "      <td>0.018695</td>\n",
       "      <td>1.31372</td>\n",
       "      <td>-0.0</td>\n",
       "      <td>-0.127583</td>\n",
       "      <td>-0.0</td>\n",
       "      <td>-0.0</td>\n",
       "      <td>-0.0</td>\n",
       "      <td>0.0</td>\n",
       "      <td>0.0</td>\n",
       "      <td>0.0</td>\n",
       "      <td>0.0</td>\n",
       "      <td>0.0</td>\n",
       "      <td>0.0</td>\n",
       "      <td>0.0</td>\n",
       "      <td>0.0</td>\n",
       "      <td>0.0</td>\n",
       "      <td>0.0</td>\n",
       "    </tr>\n",
       "    <tr>\n",
       "      <th>alpha_0.01</th>\n",
       "      <td>0.060854</td>\n",
       "      <td>0.052961</td>\n",
       "      <td>1.768792</td>\n",
       "      <td>-0.533296</td>\n",
       "      <td>-0.005095</td>\n",
       "      <td>-0.0</td>\n",
       "      <td>-0.0</td>\n",
       "      <td>-0.0</td>\n",
       "      <td>-0.0</td>\n",
       "      <td>-0.0</td>\n",
       "      <td>-0.0</td>\n",
       "      <td>0.0</td>\n",
       "      <td>0.0</td>\n",
       "      <td>0.0</td>\n",
       "      <td>0.0</td>\n",
       "      <td>0.0</td>\n",
       "      <td>0.0</td>\n",
       "      <td>0.0</td>\n",
       "    </tr>\n",
       "    <tr>\n",
       "      <th>alpha_1</th>\n",
       "      <td>0.580127</td>\n",
       "      <td>0.773579</td>\n",
       "      <td>0.092956</td>\n",
       "      <td>-0.0</td>\n",
       "      <td>-0.0</td>\n",
       "      <td>-0.0</td>\n",
       "      <td>-0.0</td>\n",
       "      <td>-0.0</td>\n",
       "      <td>-0.0</td>\n",
       "      <td>-0.0</td>\n",
       "      <td>-0.0</td>\n",
       "      <td>-0.0</td>\n",
       "      <td>-0.0</td>\n",
       "      <td>-0.0</td>\n",
       "      <td>-0.0</td>\n",
       "      <td>-0.0</td>\n",
       "      <td>-0.0</td>\n",
       "      <td>-0.0</td>\n",
       "    </tr>\n",
       "    <tr>\n",
       "      <th>alpha_5</th>\n",
       "      <td>0.580127</td>\n",
       "      <td>0.773579</td>\n",
       "      <td>0.092956</td>\n",
       "      <td>-0.0</td>\n",
       "      <td>-0.0</td>\n",
       "      <td>-0.0</td>\n",
       "      <td>-0.0</td>\n",
       "      <td>-0.0</td>\n",
       "      <td>-0.0</td>\n",
       "      <td>-0.0</td>\n",
       "      <td>-0.0</td>\n",
       "      <td>-0.0</td>\n",
       "      <td>-0.0</td>\n",
       "      <td>-0.0</td>\n",
       "      <td>-0.0</td>\n",
       "      <td>-0.0</td>\n",
       "      <td>-0.0</td>\n",
       "      <td>-0.0</td>\n",
       "    </tr>\n",
       "    <tr>\n",
       "      <th>alpha_10</th>\n",
       "      <td>0.580127</td>\n",
       "      <td>0.773579</td>\n",
       "      <td>0.092956</td>\n",
       "      <td>-0.0</td>\n",
       "      <td>-0.0</td>\n",
       "      <td>-0.0</td>\n",
       "      <td>-0.0</td>\n",
       "      <td>-0.0</td>\n",
       "      <td>-0.0</td>\n",
       "      <td>-0.0</td>\n",
       "      <td>-0.0</td>\n",
       "      <td>-0.0</td>\n",
       "      <td>-0.0</td>\n",
       "      <td>-0.0</td>\n",
       "      <td>-0.0</td>\n",
       "      <td>-0.0</td>\n",
       "      <td>-0.0</td>\n",
       "      <td>-0.0</td>\n",
       "    </tr>\n",
       "    <tr>\n",
       "      <th>alpha_20</th>\n",
       "      <td>0.580127</td>\n",
       "      <td>0.773579</td>\n",
       "      <td>0.092956</td>\n",
       "      <td>-0.0</td>\n",
       "      <td>-0.0</td>\n",
       "      <td>-0.0</td>\n",
       "      <td>-0.0</td>\n",
       "      <td>-0.0</td>\n",
       "      <td>-0.0</td>\n",
       "      <td>-0.0</td>\n",
       "      <td>-0.0</td>\n",
       "      <td>-0.0</td>\n",
       "      <td>-0.0</td>\n",
       "      <td>-0.0</td>\n",
       "      <td>-0.0</td>\n",
       "      <td>-0.0</td>\n",
       "      <td>-0.0</td>\n",
       "      <td>-0.0</td>\n",
       "    </tr>\n",
       "  </tbody>\n",
       "</table>\n",
       "</div>"
      ],
      "text/plain": [
       "             rss_train  rss_test intercept  coef_x_1  coef_x_2  coef_x_3  \\\n",
       "alpha_1e-15   0.017968  0.009589  0.043522   1.16793 -0.319834 -0.023964   \n",
       "alpha_1e-10   0.017968  0.009589  0.043522   1.16793 -0.319834 -0.023964   \n",
       "alpha_1e-08   0.017968  0.009588  0.043571  1.167878 -0.319821 -0.023964   \n",
       "alpha_0.0001  0.018891  0.009176  0.492301  0.710628 -0.212753 -0.022732   \n",
       "alpha_0.001   0.030343  0.018695   1.31372      -0.0 -0.127583      -0.0   \n",
       "alpha_0.01    0.060854  0.052961  1.768792 -0.533296 -0.005095      -0.0   \n",
       "alpha_1       0.580127  0.773579  0.092956      -0.0      -0.0      -0.0   \n",
       "alpha_5       0.580127  0.773579  0.092956      -0.0      -0.0      -0.0   \n",
       "alpha_10      0.580127  0.773579  0.092956      -0.0      -0.0      -0.0   \n",
       "alpha_20      0.580127  0.773579  0.092956      -0.0      -0.0      -0.0   \n",
       "\n",
       "              coef_x_4  coef_x_5  coef_x_6  coef_x_7  coef_x_8 coef_x_9  \\\n",
       "alpha_1e-15  -0.000442  0.000317   0.00009  0.000018  0.000003      0.0   \n",
       "alpha_1e-10  -0.000442  0.000317   0.00009  0.000018  0.000003      0.0   \n",
       "alpha_1e-08  -0.000442  0.000317   0.00009  0.000018  0.000003      0.0   \n",
       "alpha_0.0001      -0.0      -0.0  0.000028  0.000023  0.000003      0.0   \n",
       "alpha_0.001       -0.0      -0.0       0.0       0.0       0.0      0.0   \n",
       "alpha_0.01        -0.0      -0.0      -0.0      -0.0      -0.0      0.0   \n",
       "alpha_1           -0.0      -0.0      -0.0      -0.0      -0.0     -0.0   \n",
       "alpha_5           -0.0      -0.0      -0.0      -0.0      -0.0     -0.0   \n",
       "alpha_10          -0.0      -0.0      -0.0      -0.0      -0.0     -0.0   \n",
       "alpha_20          -0.0      -0.0      -0.0      -0.0      -0.0     -0.0   \n",
       "\n",
       "             coef_x_10 coef_x_11 coef_x_12 coef_x_13 coef_x_14 coef_x_15  \n",
       "alpha_1e-15        0.0       0.0      -0.0      -0.0      -0.0      -0.0  \n",
       "alpha_1e-10        0.0       0.0      -0.0      -0.0      -0.0      -0.0  \n",
       "alpha_1e-08        0.0       0.0      -0.0      -0.0      -0.0      -0.0  \n",
       "alpha_0.0001       0.0       0.0       0.0      -0.0      -0.0      -0.0  \n",
       "alpha_0.001        0.0       0.0       0.0       0.0       0.0       0.0  \n",
       "alpha_0.01         0.0       0.0       0.0       0.0       0.0       0.0  \n",
       "alpha_1           -0.0      -0.0      -0.0      -0.0      -0.0      -0.0  \n",
       "alpha_5           -0.0      -0.0      -0.0      -0.0      -0.0      -0.0  \n",
       "alpha_10          -0.0      -0.0      -0.0      -0.0      -0.0      -0.0  \n",
       "alpha_20          -0.0      -0.0      -0.0      -0.0      -0.0      -0.0  "
      ]
     },
     "execution_count": 8,
     "metadata": {},
     "output_type": "execute_result"
    }
   ],
   "source": [
    "coef_matrix_lasso"
   ]
  },
  {
   "cell_type": "code",
   "execution_count": 17,
   "id": "91078876",
   "metadata": {},
   "outputs": [
    {
     "data": {
      "text/plain": [
       "[<matplotlib.lines.Line2D at 0x7f6f3e97f220>]"
      ]
     },
     "execution_count": 17,
     "metadata": {},
     "output_type": "execute_result"
    },
    {
     "data": {
      "image/png": "[encoded data removed]",
      "text/plain": [
       "<Figure size 864x720 with 1 Axes>"
      ]
     },
     "metadata": {
      "needs_background": "light"
     },
     "output_type": "display_data"
    }
   ],
   "source": [
    "alpha = np.asarray(alpha_lasso)\n",
    "\n",
    "pl.semilogx(1./alpha,coef_matrix_lasso['rss_train'])\n",
    "pl.semilogx(1./alpha,coef_matrix_lasso['rss_test'])"
   ]
  },
  {
   "cell_type": "code",
   "execution_count": 26,
   "id": "bf2f6f38",
   "metadata": {},
   "outputs": [],
   "source": [
    "#compute density \n",
    "\n",
    "output = coef_matrix_lasso.values\n",
    "\n",
    "rho = []\n",
    "\n",
    "for i in range(len(alpha)):\n",
    "    \n",
    "    tmp = np.count_nonzero(output[i,3:18])/15\n",
    "    rho.append(tmp)"
   ]
  },
  {
   "cell_type": "code",
   "execution_count": 30,
   "id": "9788b518",
   "metadata": {},
   "outputs": [
    {
     "data": {
      "text/plain": [
       "[<matplotlib.lines.Line2D at 0x7f6f3f06eeb0>]"
      ]
     },
     "execution_count": 30,
     "metadata": {},
     "output_type": "execute_result"
    },
    {
     "data": {
      "image/png": "[encoded data removed]",
      "text/plain": [
       "<Figure size 864x720 with 1 Axes>"
      ]
     },
     "metadata": {
      "needs_background": "light"
     },
     "output_type": "display_data"
    }
   ],
   "source": [
    "pl.semilogy(rho,coef_matrix_lasso['rss_test'],'r--o')"
   ]
  }
 ],
 "metadata": {
  "kernelspec": {
   "display_name": "Python 3",
   "language": "python",
   "name": "python3"
  },
  "language_info": {
   "codemirror_mode": {
    "name": "ipython",
    "version": 3
   },
   "file_extension": ".py",
   "mimetype": "text/x-python",
   "name": "python",
   "nbconvert_exporter": "python",
   "pygments_lexer": "ipython3",
   "version": "3.8.10"
  }
 },
 "nbformat": 4,
 "nbformat_minor": 5
}
