{
 "cells": [
  {
   "cell_type": "code",
   "execution_count": 1,
   "id": "cc420c90",
   "metadata": {},
   "outputs": [],
   "source": [
    "%matplotlib tk"
   ]
  },
  {
   "cell_type": "code",
   "execution_count": 2,
   "id": "07356955",
   "metadata": {},
   "outputs": [],
   "source": [
    "import numpy as np\n",
    "import pylab as pl\n",
    "import pandas as pd"
   ]
  },
  {
   "cell_type": "code",
   "execution_count": 3,
   "id": "a0247c7d",
   "metadata": {},
   "outputs": [],
   "source": [
    "from tensorflow.keras.models import Sequential\n",
    "from tensorflow.keras.layers import Dense,Dropout,LSTM"
   ]
  },
  {
   "cell_type": "code",
   "execution_count": 6,
   "id": "dd248498",
   "metadata": {},
   "outputs": [
    {
     "data": {
      "text/html": [
       "<div>\n",
       "<style scoped>\n",
       "    .dataframe tbody tr th:only-of-type {\n",
       "        vertical-align: middle;\n",
       "    }\n",
       "\n",
       "    .dataframe tbody tr th {\n",
       "        vertical-align: top;\n",
       "    }\n",
       "\n",
       "    .dataframe thead th {\n",
       "        text-align: right;\n",
       "    }\n",
       "</style>\n",
       "<table border=\"1\" class=\"dataframe\">\n",
       "  <thead>\n",
       "    <tr style=\"text-align: right;\">\n",
       "      <th></th>\n",
       "      <th>Month</th>\n",
       "      <th>Champagne sales</th>\n",
       "    </tr>\n",
       "  </thead>\n",
       "  <tbody>\n",
       "    <tr>\n",
       "      <th>0</th>\n",
       "      <td>1964-01</td>\n",
       "      <td>2815</td>\n",
       "    </tr>\n",
       "    <tr>\n",
       "      <th>1</th>\n",
       "      <td>1964-02</td>\n",
       "      <td>2672</td>\n",
       "    </tr>\n",
       "    <tr>\n",
       "      <th>2</th>\n",
       "      <td>1964-03</td>\n",
       "      <td>2755</td>\n",
       "    </tr>\n",
       "    <tr>\n",
       "      <th>3</th>\n",
       "      <td>1964-04</td>\n",
       "      <td>2721</td>\n",
       "    </tr>\n",
       "    <tr>\n",
       "      <th>4</th>\n",
       "      <td>1964-05</td>\n",
       "      <td>2946</td>\n",
       "    </tr>\n",
       "  </tbody>\n",
       "</table>\n",
       "</div>"
      ],
      "text/plain": [
       "     Month  Champagne sales\n",
       "0  1964-01             2815\n",
       "1  1964-02             2672\n",
       "2  1964-03             2755\n",
       "3  1964-04             2721\n",
       "4  1964-05             2946"
      ]
     },
     "execution_count": 6,
     "metadata": {},
     "output_type": "execute_result"
    }
   ],
   "source": [
    "df =  pd.read_csv(\"Champagne Sales.csv\")\n",
    "df.head()"
   ]
  },
  {
   "cell_type": "code",
   "execution_count": 9,
   "id": "656acd16",
   "metadata": {},
   "outputs": [
    {
     "data": {
      "text/plain": [
       "array([['1964-01', 2815],\n",
       "       ['1964-02', 2672],\n",
       "       ['1964-03', 2755],\n",
       "       ['1964-04', 2721],\n",
       "       ['1964-05', 2946],\n",
       "       ['1964-06', 3036],\n",
       "       ['1964-07', 2282],\n",
       "       ['1964-08', 2212],\n",
       "       ['1964-09', 2922],\n",
       "       ['1964-10', 4301],\n",
       "       ['1964-11', 5764],\n",
       "       ['1964-12', 7312],\n",
       "       ['1965-01', 2541],\n",
       "       ['1965-02', 2475],\n",
       "       ['1965-03', 3031],\n",
       "       ['1965-04', 3266],\n",
       "       ['1965-05', 3776],\n",
       "       ['1965-06', 3230],\n",
       "       ['1965-07', 3028],\n",
       "       ['1965-08', 1759],\n",
       "       ['1965-09', 3595],\n",
       "       ['1965-10', 4474],\n",
       "       ['1965-11', 6838],\n",
       "       ['1965-12', 8357],\n",
       "       ['1966-01', 3113],\n",
       "       ['1966-02', 3006],\n",
       "       ['1966-03', 4047],\n",
       "       ['1966-04', 3523],\n",
       "       ['1966-05', 3937],\n",
       "       ['1966-06', 3986],\n",
       "       ['1966-07', 3260],\n",
       "       ['1966-08', 1573],\n",
       "       ['1966-09', 3528],\n",
       "       ['1966-10', 5211],\n",
       "       ['1966-11', 7614],\n",
       "       ['1966-12', 9254],\n",
       "       ['1967-01', 5375],\n",
       "       ['1967-02', 3088],\n",
       "       ['1967-03', 3718],\n",
       "       ['1967-04', 4514],\n",
       "       ['1967-05', 4520],\n",
       "       ['1967-06', 4539],\n",
       "       ['1967-07', 3663],\n",
       "       ['1967-08', 1643],\n",
       "       ['1967-09', 4739],\n",
       "       ['1967-10', 5428],\n",
       "       ['1967-11', 8314],\n",
       "       ['1967-12', 10651],\n",
       "       ['1968-01', 3633],\n",
       "       ['1968-02', 4292],\n",
       "       ['1968-03', 4154],\n",
       "       ['1968-04', 4121],\n",
       "       ['1968-05', 4647],\n",
       "       ['1968-06', 4753],\n",
       "       ['1968-07', 3965],\n",
       "       ['1968-08', 1723],\n",
       "       ['1968-09', 5048],\n",
       "       ['1968-10', 6922],\n",
       "       ['1968-11', 9858],\n",
       "       ['1968-12', 11331],\n",
       "       ['1969-01', 4016],\n",
       "       ['1969-02', 3957],\n",
       "       ['1969-03', 4510],\n",
       "       ['1969-04', 4276],\n",
       "       ['1969-05', 4968],\n",
       "       ['1969-06', 4677],\n",
       "       ['1969-07', 3523],\n",
       "       ['1969-08', 1821],\n",
       "       ['1969-09', 5222],\n",
       "       ['1969-10', 6872],\n",
       "       ['1969-11', 10803],\n",
       "       ['1969-12', 13916],\n",
       "       ['1970-01', 2639],\n",
       "       ['1970-02', 2899],\n",
       "       ['1970-03', 3370],\n",
       "       ['1970-04', 3740],\n",
       "       ['1970-05', 2927],\n",
       "       ['1970-06', 3986],\n",
       "       ['1970-07', 4217],\n",
       "       ['1970-08', 1738],\n",
       "       ['1970-09', 5221],\n",
       "       ['1970-10', 6424],\n",
       "       ['1970-11', 9842],\n",
       "       ['1970-12', 13076],\n",
       "       ['1971-01', 3934],\n",
       "       ['1971-02', 3162],\n",
       "       ['1971-03', 4286],\n",
       "       ['1971-04', 4676],\n",
       "       ['1971-05', 5010],\n",
       "       ['1971-06', 4874],\n",
       "       ['1971-07', 4633],\n",
       "       ['1971-08', 1659],\n",
       "       ['1971-09', 5951],\n",
       "       ['1971-10', 6981],\n",
       "       ['1971-11', 9851],\n",
       "       ['1971-12', 12670],\n",
       "       ['1972-01', 4348],\n",
       "       ['1972-02', 3564],\n",
       "       ['1972-03', 4577],\n",
       "       ['1972-04', 4788],\n",
       "       ['1972-05', 4618],\n",
       "       ['1972-06', 5312],\n",
       "       ['1972-07', 4298],\n",
       "       ['1972-08', 1413],\n",
       "       ['1972-09', 5877]], dtype=object)"
      ]
     },
     "execution_count": 9,
     "metadata": {},
     "output_type": "execute_result"
    }
   ],
   "source": [
    "df.values"
   ]
  },
  {
   "cell_type": "code",
   "execution_count": 10,
   "id": "ea288724",
   "metadata": {},
   "outputs": [
    {
     "data": {
      "text/plain": [
       "[<matplotlib.lines.Line2D at 0x7fa04373a670>]"
      ]
     },
     "execution_count": 10,
     "metadata": {},
     "output_type": "execute_result"
    }
   ],
   "source": [
    "pl.plot(df.values[:,1])"
   ]
  },
  {
   "cell_type": "code",
   "execution_count": 11,
   "id": "601d376e",
   "metadata": {},
   "outputs": [],
   "source": [
    "A = df['Champagne sales'].values\n",
    "Scaling = A.max()\n",
    "A = A / Scaling"
   ]
  },
  {
   "cell_type": "code",
   "execution_count": 15,
   "id": "a6bac5d5",
   "metadata": {},
   "outputs": [
    {
     "data": {
      "text/plain": [
       "105"
      ]
     },
     "execution_count": 15,
     "metadata": {},
     "output_type": "execute_result"
    }
   ],
   "source": [
    "A.shape[0]"
   ]
  },
  {
   "cell_type": "code",
   "execution_count": 17,
   "id": "85f8b3a8",
   "metadata": {},
   "outputs": [
    {
     "name": "stdout",
     "output_type": "stream",
     "text": [
      "Shapes of X, Y:  (84, 1, 20) (84, 1)\n"
     ]
    }
   ],
   "source": [
    "#Prepare RNN Dataset. \n",
    "#Each data point (X) is linked to the previous data points of size=lookback\n",
    "#The predicted value (Y) is the next point\n",
    "\n",
    "lookback = 20\n",
    "\n",
    "def create_rnn_dataset(data, lookback=1):\n",
    "    \n",
    "    data_x, data_y = [], []\n",
    "    #for i in range(len(data) - lookback -1):\n",
    "    for i in range(len(data[:,0]) - lookback -1):\n",
    "        #All points from this point, looking backwards upto lookback\n",
    "            a = data[i:(i+ lookback), :]\n",
    "            data_x.append(a)\n",
    "            #The next point\n",
    "            data_y.append(data[i + lookback, :])\n",
    "    return np.array(data_x), np.array(data_y)\n",
    "\n",
    "#Create X and Y for training\n",
    "train_req_x, train_req_y = create_rnn_dataset(A.reshape(A.shape[0],1) ,lookback)\n",
    "\n",
    "#Reshape for use with LSTM\n",
    "train_req_x = np.reshape(train_req_x,(train_req_x.shape[0],1, train_req_x.shape[1]))\n",
    "\n",
    "print(\"Shapes of X, Y: \",train_req_x.shape, train_req_y.shape)"
   ]
  },
  {
   "cell_type": "code",
   "execution_count": 18,
   "id": "52aab0c3",
   "metadata": {},
   "outputs": [
    {
     "name": "stdout",
     "output_type": "stream",
     "text": [
      "Model: \"sequential\"\n",
      "_________________________________________________________________\n",
      " Layer (type)                Output Shape              Param #   \n",
      "=================================================================\n",
      " lstm (LSTM)                 (None, 128)               76288     \n",
      "                                                                 \n",
      " dense (Dense)               (None, 1)                 129       \n",
      "                                                                 \n",
      "=================================================================\n",
      "Total params: 76,417\n",
      "Trainable params: 76,417\n",
      "Non-trainable params: 0\n",
      "_________________________________________________________________\n",
      "Epoch 1/20\n",
      "84/84 [==============================] - 2s 2ms/step - loss: 0.0521 - mse: 0.0521\n",
      "Epoch 2/20\n",
      "84/84 [==============================] - 0s 2ms/step - loss: 0.0264 - mse: 0.0264 \n",
      "Epoch 3/20\n",
      "84/84 [==============================] - 0s 2ms/step - loss: 0.0194 - mse: 0.0194\n",
      "Epoch 4/20\n",
      "84/84 [==============================] - 0s 2ms/step - loss: 0.0118 - mse: 0.0118 \n",
      "Epoch 5/20\n",
      "84/84 [==============================] - 0s 2ms/step - loss: 0.0087 - mse: 0.0087\n",
      "Epoch 6/20\n",
      "84/84 [==============================] - 0s 2ms/step - loss: 0.0074 - mse: 0.0074 \n",
      "Epoch 7/20\n",
      "84/84 [==============================] - 0s 2ms/step - loss: 0.0067 - mse: 0.0067 \n",
      "Epoch 8/20\n",
      "84/84 [==============================] - 0s 2ms/step - loss: 0.0052 - mse: 0.0052 \n",
      "Epoch 9/20\n",
      "84/84 [==============================] - 0s 2ms/step - loss: 0.0047 - mse: 0.0047\n",
      "Epoch 10/20\n",
      "84/84 [==============================] - 0s 2ms/step - loss: 0.0046 - mse: 0.0046 \n",
      "Epoch 11/20\n",
      "84/84 [==============================] - 0s 2ms/step - loss: 0.0039 - mse: 0.0039 \n",
      "Epoch 12/20\n",
      "84/84 [==============================] - 0s 2ms/step - loss: 0.0037 - mse: 0.0037\n",
      "Epoch 13/20\n",
      "84/84 [==============================] - 0s 2ms/step - loss: 0.0035 - mse: 0.0035\n",
      "Epoch 14/20\n",
      "84/84 [==============================] - 0s 2ms/step - loss: 0.0039 - mse: 0.0039  \n",
      "Epoch 15/20\n",
      "84/84 [==============================] - 0s 2ms/step - loss: 0.0037 - mse: 0.0037\n",
      "Epoch 16/20\n",
      "84/84 [==============================] - 0s 2ms/step - loss: 0.0033 - mse: 0.0033\n",
      "Epoch 17/20\n",
      "84/84 [==============================] - 0s 2ms/step - loss: 0.0031 - mse: 0.0031 \n",
      "Epoch 18/20\n",
      "84/84 [==============================] - 0s 2ms/step - loss: 0.0033 - mse: 0.0033\n",
      "Epoch 19/20\n",
      "84/84 [==============================] - 0s 2ms/step - loss: 0.0040 - mse: 0.0040 \n",
      "Epoch 20/20\n",
      "84/84 [==============================] - 0s 2ms/step - loss: 0.0036 - mse: 0.0036\n"
     ]
    }
   ],
   "source": [
    "#Create a Keras Model\n",
    "ts_model=Sequential()\n",
    "#Add LSTM\n",
    "ts_model.add(LSTM(128, input_shape=(1,lookback)))\n",
    "ts_model.add(Dense(1))\n",
    "\n",
    "#Compile with Adam Optimizer. Optimize for minimum mean square error\n",
    "ts_model.compile(loss=\"mean_squared_error\",\n",
    "                 optimizer=\"adam\",\n",
    "                 metrics=[\"mse\"])\n",
    "\n",
    "#Print model summary\n",
    "ts_model.summary()\n",
    "\n",
    "#Train the model\n",
    "history = ts_model.fit(train_req_x,train_req_y, epochs=20, batch_size=1, verbose=1)"
   ]
  },
  {
   "cell_type": "code",
   "execution_count": 19,
   "id": "2809ec6e",
   "metadata": {},
   "outputs": [],
   "source": [
    "pl.figure(1)\n",
    "\n",
    "loss = history.history['loss']\n",
    "epochs = range(1, len(loss) + 1)\n",
    "pl.plot(epochs, loss, \"r--o\", lw = 1, mfc = \"none\" ,label='Training loss')\n",
    "\n",
    "pl.title('Training loss')\n",
    "pl.xlabel('Epochs')\n",
    "pl.ylabel('Loss')\n",
    "pl.legend()\n",
    "pl.show()"
   ]
  },
  {
   "cell_type": "code",
   "execution_count": 20,
   "id": "d501be5f",
   "metadata": {},
   "outputs": [],
   "source": [
    "predict_on_train = ts_model.predict(train_req_x)"
   ]
  },
  {
   "cell_type": "code",
   "execution_count": 21,
   "id": "e365c2a7",
   "metadata": {},
   "outputs": [
    {
     "data": {
      "text/plain": [
       "[<matplotlib.lines.Line2D at 0x7fa0403c29a0>]"
      ]
     },
     "execution_count": 21,
     "metadata": {},
     "output_type": "execute_result"
    }
   ],
   "source": [
    "pl.figure(1)\n",
    "\n",
    "pl.plot(predict_on_train*Scaling)\n",
    "pl.plot(train_req_y*Scaling)"
   ]
  },
  {
   "cell_type": "code",
   "execution_count": 24,
   "id": "e24829b1",
   "metadata": {},
   "outputs": [],
   "source": [
    "#predict in the future\n",
    "\n",
    "#Predict for the next week\n",
    "predict_for = 100\n",
    "\n",
    "curr_input = train_req_x[-1,:,:].T \n",
    "\n",
    "for i in range(predict_for):\n",
    "    \n",
    "    #Take the last lookback no. of samples as X\n",
    "    this_input_ = curr_input[-lookback:,:]\n",
    "    #Create the input\n",
    "    this_input = this_input_.reshape((1,1,lookback))\n",
    "    #Predict for the next point\n",
    "    this_prediction = ts_model.predict(this_input)\n",
    "\n",
    "    #Add the current prediction to the input\n",
    "    curr_input = np.vstack([curr_input,this_prediction])\n",
    "\n",
    "#Extract the last predict_for part of curr_input, which contains all the new predictions\n",
    "predict_on_future=np.reshape(np.array(curr_input[-predict_for:,:]),(predict_for,1))"
   ]
  },
  {
   "cell_type": "code",
   "execution_count": 25,
   "id": "a639eb6c",
   "metadata": {},
   "outputs": [
    {
     "data": {
      "text/plain": [
       "[<matplotlib.lines.Line2D at 0x7fa0205d87f0>]"
      ]
     },
     "execution_count": 25,
     "metadata": {},
     "output_type": "execute_result"
    }
   ],
   "source": [
    "nt  = train_req_x.shape[0]\n",
    "Np  = predict_on_future.shape[0]\n",
    "\n",
    "pl.figure(3)\n",
    "\n",
    "pl.plot(range(0,nt),train_req_y[:,0]*Scaling)\n",
    "pl.plot(range(nt,nt+Np),predict_on_future[:,0]*Scaling)"
   ]
  },
  {
   "cell_type": "code",
   "execution_count": null,
   "id": "fe17ef82",
   "metadata": {},
   "outputs": [],
   "source": []
  }
 ],
 "metadata": {
  "kernelspec": {
   "display_name": "Python 3",
   "language": "python",
   "name": "python3"
  },
  "language_info": {
   "codemirror_mode": {
    "name": "ipython",
    "version": 3
   },
   "file_extension": ".py",
   "mimetype": "text/x-python",
   "name": "python",
   "nbconvert_exporter": "python",
   "pygments_lexer": "ipython3",
   "version": "3.8.10"
  }
 },
 "nbformat": 4,
 "nbformat_minor": 5
}
