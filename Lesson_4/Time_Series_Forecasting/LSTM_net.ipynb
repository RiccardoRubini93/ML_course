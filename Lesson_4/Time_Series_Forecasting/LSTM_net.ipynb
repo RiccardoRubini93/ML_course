{
 "cells": [
  {
   "cell_type": "code",
   "execution_count": 1,
   "id": "78546758",
   "metadata": {},
   "outputs": [],
   "source": [
    "%matplotlib tk"
   ]
  },
  {
   "cell_type": "code",
   "execution_count": 2,
   "id": "4a59a5ea",
   "metadata": {},
   "outputs": [],
   "source": [
    "import numpy as np\n",
    "import pylab as pl\n",
    "import pandas as pd"
   ]
  },
  {
   "cell_type": "code",
   "execution_count": 3,
   "id": "f3e3950b",
   "metadata": {},
   "outputs": [],
   "source": [
    "from tensorflow.keras.models import Sequential\n",
    "from tensorflow.keras.layers import Dense,Dropout,LSTM"
   ]
  },
  {
   "cell_type": "code",
   "execution_count": 4,
   "id": "1218acad",
   "metadata": {},
   "outputs": [
    {
     "name": "stdout",
     "output_type": "stream",
     "text": [
      "(747, 2)\n"
     ]
    },
    {
     "data": {
      "text/html": [
       "<div>\n",
       "<style scoped>\n",
       "    .dataframe tbody tr th:only-of-type {\n",
       "        vertical-align: middle;\n",
       "    }\n",
       "\n",
       "    .dataframe tbody tr th {\n",
       "        vertical-align: top;\n",
       "    }\n",
       "\n",
       "    .dataframe thead th {\n",
       "        text-align: right;\n",
       "    }\n",
       "</style>\n",
       "<table border=\"1\" class=\"dataframe\">\n",
       "  <thead>\n",
       "    <tr style=\"text-align: right;\">\n",
       "      <th></th>\n",
       "      <th>NumVehicles</th>\n",
       "      <th>Time</th>\n",
       "    </tr>\n",
       "    <tr>\n",
       "      <th>Day</th>\n",
       "      <th></th>\n",
       "      <th></th>\n",
       "    </tr>\n",
       "  </thead>\n",
       "  <tbody>\n",
       "    <tr>\n",
       "      <th>2003-11-01</th>\n",
       "      <td>103536</td>\n",
       "      <td>0</td>\n",
       "    </tr>\n",
       "    <tr>\n",
       "      <th>2003-11-02</th>\n",
       "      <td>92051</td>\n",
       "      <td>1</td>\n",
       "    </tr>\n",
       "    <tr>\n",
       "      <th>2003-11-03</th>\n",
       "      <td>100795</td>\n",
       "      <td>2</td>\n",
       "    </tr>\n",
       "    <tr>\n",
       "      <th>2003-11-04</th>\n",
       "      <td>102352</td>\n",
       "      <td>3</td>\n",
       "    </tr>\n",
       "    <tr>\n",
       "      <th>2003-11-05</th>\n",
       "      <td>106569</td>\n",
       "      <td>4</td>\n",
       "    </tr>\n",
       "  </tbody>\n",
       "</table>\n",
       "</div>"
      ],
      "text/plain": [
       "            NumVehicles  Time\n",
       "Day                          \n",
       "2003-11-01       103536     0\n",
       "2003-11-02        92051     1\n",
       "2003-11-03       100795     2\n",
       "2003-11-04       102352     3\n",
       "2003-11-05       106569     4"
      ]
     },
     "execution_count": 4,
     "metadata": {},
     "output_type": "execute_result"
    }
   ],
   "source": [
    "df = pd.read_csv(\"data/tunnel.csv\",parse_dates=[\"Day\"])\n",
    "df = df.set_index(\"Day\")\n",
    "df['Time'] = np.arange(len(df.index))\n",
    "print(df.shape)\n",
    "df.head()"
   ]
  },
  {
   "cell_type": "code",
   "execution_count": 5,
   "id": "4b5a941f",
   "metadata": {},
   "outputs": [],
   "source": [
    "A = df['NumVehicles'].values\n",
    "Scaling = A.max()\n",
    "A = A / Scaling"
   ]
  },
  {
   "cell_type": "code",
   "execution_count": 16,
   "id": "8e31fbaf",
   "metadata": {},
   "outputs": [
    {
     "data": {
      "text/plain": [
       "(747,)"
      ]
     },
     "execution_count": 16,
     "metadata": {},
     "output_type": "execute_result"
    }
   ],
   "source": [
    "A.shape"
   ]
  },
  {
   "cell_type": "code",
   "execution_count": 17,
   "id": "356ceffa",
   "metadata": {},
   "outputs": [
    {
     "name": "stdout",
     "output_type": "stream",
     "text": [
      "Shapes of X, Y:  (246, 1, 500) (246, 1)\n"
     ]
    }
   ],
   "source": [
    "#Prepare RNN Dataset. \n",
    "#Each data point (X) is linked to the previous data points of size=lookback\n",
    "#The predicted value (Y) is the next point\n",
    "\n",
    "lookback = 500\n",
    "\n",
    "def create_rnn_dataset(data, lookback=1):\n",
    "    \n",
    "    data_x, data_y = [], []\n",
    "    #for i in range(len(data) - lookback -1):\n",
    "    for i in range(len(data[:,0]) - lookback -1):\n",
    "        #All points from this point, looking backwards upto lookback\n",
    "            a = data[i:(i+ lookback), :]\n",
    "            data_x.append(a)\n",
    "            #The next point\n",
    "            data_y.append(data[i + lookback, :])\n",
    "    return np.array(data_x), np.array(data_y)\n",
    "\n",
    "#Create X and Y for training\n",
    "train_req_x, train_req_y = create_rnn_dataset(A.reshape(747,1) ,lookback)\n",
    "\n",
    "#Reshape for use with LSTM\n",
    "train_req_x = np.reshape(train_req_x,(train_req_x.shape[0],1, train_req_x.shape[1]))\n",
    "\n",
    "print(\"Shapes of X, Y: \",train_req_x.shape, train_req_y.shape)"
   ]
  },
  {
   "cell_type": "code",
   "execution_count": 18,
   "id": "035144d7",
   "metadata": {},
   "outputs": [
    {
     "name": "stdout",
     "output_type": "stream",
     "text": [
      "Model: \"sequential_1\"\n",
      "_________________________________________________________________\n",
      " Layer (type)                Output Shape              Param #   \n",
      "=================================================================\n",
      " lstm_1 (LSTM)               (None, 128)               322048    \n",
      "                                                                 \n",
      " dense_1 (Dense)             (None, 1)                 129       \n",
      "                                                                 \n",
      "=================================================================\n",
      "Total params: 322,177\n",
      "Trainable params: 322,177\n",
      "Non-trainable params: 0\n",
      "_________________________________________________________________\n",
      "Epoch 1/20\n",
      "246/246 [==============================] - 2s 3ms/step - loss: 0.0155 - mse: 0.0155\n",
      "Epoch 2/20\n",
      "246/246 [==============================] - 1s 3ms/step - loss: 0.0054 - mse: 0.0054\n",
      "Epoch 3/20\n",
      "246/246 [==============================] - 1s 3ms/step - loss: 0.0044 - mse: 0.0044\n",
      "Epoch 4/20\n",
      "246/246 [==============================] - 1s 3ms/step - loss: 0.0043 - mse: 0.0043\n",
      "Epoch 5/20\n",
      "246/246 [==============================] - 1s 3ms/step - loss: 0.0043 - mse: 0.0043\n",
      "Epoch 6/20\n",
      "246/246 [==============================] - 1s 3ms/step - loss: 0.0037 - mse: 0.0037\n",
      "Epoch 7/20\n",
      "246/246 [==============================] - 1s 3ms/step - loss: 0.0040 - mse: 0.0040\n",
      "Epoch 8/20\n",
      "246/246 [==============================] - 1s 3ms/step - loss: 0.0036 - mse: 0.0036\n",
      "Epoch 9/20\n",
      "246/246 [==============================] - 1s 3ms/step - loss: 0.0028 - mse: 0.0028\n",
      "Epoch 10/20\n",
      "246/246 [==============================] - 1s 3ms/step - loss: 0.0033 - mse: 0.0033\n",
      "Epoch 11/20\n",
      "246/246 [==============================] - 1s 3ms/step - loss: 0.0032 - mse: 0.0032\n",
      "Epoch 12/20\n",
      "246/246 [==============================] - 1s 3ms/step - loss: 0.0029 - mse: 0.0029\n",
      "Epoch 13/20\n",
      "246/246 [==============================] - 1s 3ms/step - loss: 0.0034 - mse: 0.0034\n",
      "Epoch 14/20\n",
      "246/246 [==============================] - 1s 3ms/step - loss: 0.0031 - mse: 0.0031\n",
      "Epoch 15/20\n",
      "246/246 [==============================] - 1s 3ms/step - loss: 0.0032 - mse: 0.0032\n",
      "Epoch 16/20\n",
      "246/246 [==============================] - 1s 3ms/step - loss: 0.0029 - mse: 0.0029\n",
      "Epoch 17/20\n",
      "246/246 [==============================] - 1s 3ms/step - loss: 0.0027 - mse: 0.0027\n",
      "Epoch 18/20\n",
      "246/246 [==============================] - 1s 3ms/step - loss: 0.0027 - mse: 0.0027\n",
      "Epoch 19/20\n",
      "246/246 [==============================] - 1s 3ms/step - loss: 0.0031 - mse: 0.0031\n",
      "Epoch 20/20\n",
      "246/246 [==============================] - 1s 3ms/step - loss: 0.0029 - mse: 0.0029\n"
     ]
    }
   ],
   "source": [
    "#Create a Keras Model\n",
    "ts_model=Sequential()\n",
    "#Add LSTM\n",
    "ts_model.add(LSTM(128, input_shape=(1,lookback)))\n",
    "ts_model.add(Dense(1))\n",
    "\n",
    "#Compile with Adam Optimizer. Optimize for minimum mean square error\n",
    "ts_model.compile(loss=\"mean_squared_error\",\n",
    "                 optimizer=\"adam\",\n",
    "                 metrics=[\"mse\"])\n",
    "\n",
    "#Print model summary\n",
    "ts_model.summary()\n",
    "\n",
    "#Train the model\n",
    "history = ts_model.fit(train_req_x,train_req_y, epochs=20, batch_size=1, verbose=1)"
   ]
  },
  {
   "cell_type": "code",
   "execution_count": 19,
   "id": "6c7010f4",
   "metadata": {},
   "outputs": [],
   "source": [
    "pl.figure(1)\n",
    "\n",
    "loss = history.history['loss']\n",
    "epochs = range(1, len(loss) + 1)\n",
    "pl.plot(epochs, loss, \"r--o\", lw = 1, mfc = \"none\" ,label='Training loss')\n",
    "\n",
    "pl.title('Training loss')\n",
    "pl.xlabel('Epochs')\n",
    "pl.ylabel('Loss')\n",
    "pl.legend()\n",
    "pl.show()"
   ]
  },
  {
   "cell_type": "code",
   "execution_count": 20,
   "id": "59b5f6fd",
   "metadata": {},
   "outputs": [],
   "source": [
    "predict_on_train = ts_model.predict(train_req_x)"
   ]
  },
  {
   "cell_type": "code",
   "execution_count": 21,
   "id": "83b7dea8",
   "metadata": {},
   "outputs": [
    {
     "data": {
      "text/plain": [
       "[<matplotlib.lines.Line2D at 0x7f723073cf70>]"
      ]
     },
     "execution_count": 21,
     "metadata": {},
     "output_type": "execute_result"
    }
   ],
   "source": [
    "pl.figure(1)\n",
    "\n",
    "pl.plot(predict_on_train*Scaling)\n",
    "pl.plot(train_req_y*Scaling)\n"
   ]
  },
  {
   "cell_type": "code",
   "execution_count": 22,
   "id": "b9011535",
   "metadata": {},
   "outputs": [],
   "source": [
    "#predict in the future\n",
    "\n",
    "#Predict for the next week\n",
    "predict_for = 100\n",
    "\n",
    "curr_input = train_req_x[-1,:,:].T \n",
    "\n",
    "for i in range(predict_for):\n",
    "    \n",
    "    #Take the last lookback no. of samples as X\n",
    "    this_input_ = curr_input[-lookback:,:]\n",
    "    #Create the input\n",
    "    this_input = this_input_.reshape((1,1,lookback))\n",
    "    #Predict for the next point\n",
    "    this_prediction = ts_model.predict(this_input)\n",
    "\n",
    "    #Add the current prediction to the input\n",
    "    curr_input = np.vstack([curr_input,this_prediction])\n",
    "\n",
    "#Extract the last predict_for part of curr_input, which contains all the new predictions\n",
    "predict_on_future=np.reshape(np.array(curr_input[-predict_for:,:]),(predict_for,1))"
   ]
  },
  {
   "cell_type": "code",
   "execution_count": 23,
   "id": "40229f3b",
   "metadata": {},
   "outputs": [
    {
     "data": {
      "text/plain": [
       "[<matplotlib.lines.Line2D at 0x7f7222fcb310>]"
      ]
     },
     "execution_count": 23,
     "metadata": {},
     "output_type": "execute_result"
    }
   ],
   "source": [
    "nt  = train_req_x.shape[0]\n",
    "Np  = predict_on_future.shape[0]\n",
    "\n",
    "pl.figure(3)\n",
    "\n",
    "pl.plot(range(0,nt),train_req_y[:,0]*Scaling)\n",
    "pl.plot(range(nt,nt+Np),predict_on_future[:,0]*Scaling)\n"
   ]
  },
  {
   "cell_type": "code",
   "execution_count": null,
   "id": "633308aa",
   "metadata": {},
   "outputs": [],
   "source": []
  }
 ],
 "metadata": {
  "kernelspec": {
   "display_name": "Python 3",
   "language": "python",
   "name": "python3"
  },
  "language_info": {
   "codemirror_mode": {
    "name": "ipython",
    "version": 3
   },
   "file_extension": ".py",
   "mimetype": "text/x-python",
   "name": "python",
   "nbconvert_exporter": "python",
   "pygments_lexer": "ipython3",
   "version": "3.8.10"
  }
 },
 "nbformat": 4,
 "nbformat_minor": 5
}
